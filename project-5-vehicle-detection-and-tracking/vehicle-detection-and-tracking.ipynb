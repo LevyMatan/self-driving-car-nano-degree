{
 "cells": [
  {
   "cell_type": "code",
   "execution_count": 11,
   "metadata": {
    "collapsed": false
   },
   "outputs": [],
   "source": [
    "import numpy as np\n",
    "import cv2\n",
    "import glob\n",
    "import time\n",
    "from sklearn.model_selection import train_test_split\n",
    "from sklearn.preprocessing import StandardScaler\n",
    "from sklearn.svm import LinearSVC\n",
    "from skimage.feature import hog\n",
    "import matplotlib.image as mpimg\n",
    "import matplotlib.pyplot as plt"
   ]
  },
  {
   "cell_type": "code",
   "execution_count": 16,
   "metadata": {
    "collapsed": true
   },
   "outputs": [],
   "source": [
    "# some commonly used functions\n",
    "def read_image(image_path):\n",
    "    \"\"\"\n",
    "        read the image in the given path\n",
    "        as cv2.imread returns BGR images, apply transformation to expected RGB\n",
    "    \"\"\"\n",
    "    image = cv2.imread(image_path)\n",
    "    return cv2.cvtColor(image, cv2.COLOR_BGR2RGB)"
   ]
  },
  {
   "cell_type": "code",
   "execution_count": 17,
   "metadata": {
    "collapsed": false
   },
   "outputs": [],
   "source": [
    "# define methods for feature extraction\n",
    "\n",
    "# create features based on the histograms of the individual color channels.\n",
    "def color_histogram_features(image, nbins=32, bins_range=(0, 256)):\n",
    "    # Compute the histogram of the RGB channels separately\n",
    "    rhist = np.histogram(image[:,:,0], bins=nbins, range=bins_range)\n",
    "    ghist = np.histogram(image[:,:,1], bins=nbins, range=bins_range)\n",
    "    bhist = np.histogram(image[:,:,2], bins=nbins, range=bins_range)\n",
    "    # Generating bin centers\n",
    "    bin_edges = rhist[1]\n",
    "    bin_centers = (bin_edges[1:]  + bin_edges[0:len(bin_edges)-1])/2\n",
    "    # Concatenate the histograms into a single feature vector\n",
    "    hist_features = np.concatenate((rhist[0], ghist[0], bhist[0]))\n",
    "    # Return the individual histograms, bin_centers and feature vector\n",
    "    return hist_features\n",
    "\n",
    "# spatial binning as discussed in the lectures.\n",
    "def spatial_binning_features(image, size=(32, 32)):\n",
    "    features = cv2.resize(image, size).ravel()\n",
    "    return features\n",
    "\n",
    "\n",
    "# create HOG features of an image as discussd in class\n",
    "def hog_features(image, orient, pix_per_cell, cell_per_block):\n",
    "        features = hog(img, orientations=orient, pixels_per_cell=(pix_per_cell, pix_per_cell),\n",
    "                       cells_per_block=(cell_per_block, cell_per_block), transform_sqrt=True, \n",
    "                       visualise=False, feature_vector=True)\n",
    "        return features\n"
   ]
  },
  {
   "cell_type": "code",
   "execution_count": 21,
   "metadata": {
    "collapsed": false
   },
   "outputs": [
    {
     "name": "stdout",
     "output_type": "stream",
     "text": [
      "5966 5766\n",
      "5966\n",
      "5766\n",
      "Using spatial binning of: 32 and 32 histogram bins\n",
      "Feature vector length: 3168\n",
      "5.78 Seconds to train SVC...\n",
      "Test Accuracy of SVC =  0.9928\n",
      "My SVC predicts:  [ 1.  0.  0.  1.  1.  0.  0.  0.  0.  1.]\n",
      "For these 10 labels:  [ 1.  0.  0.  1.  1.  0.  0.  0.  0.  1.]\n",
      "0.00271 Seconds to predict 10 labels with SVC\n"
     ]
    }
   ],
   "source": [
    "# define a rudimentary pipeline\n",
    "car_images_path = './training/vehicles/KITTI_extracted/*'\n",
    "not_car_images_path = './training/non-vehicles/Extras/*'\n",
    "\n",
    "# Define a function to extract features from a list of images\n",
    "def extract_features(images, spatial_size=(32, 32), hist_bins=32, hist_range=(0, 256)):\n",
    "    \n",
    "    features = []\n",
    "    for image in images:\n",
    "        # Apply bin_spatial() to get spatial color features\n",
    "        spatial_features = spatial_binning_features(image, size=spatial_size)\n",
    "        # Apply color_hist() also with a color space option now\n",
    "        hist_features = color_histogram_features(image, nbins=hist_bins, bins_range=hist_range)\n",
    "        # Append the new feature vector to the features list\n",
    "        features.append(np.concatenate((spatial_features, hist_features)))\n",
    "    \n",
    "    print(len(features))\n",
    "    # Return list of feature vectors\n",
    "    return features\n",
    "\n",
    "\n",
    "# Read in car and non-car images\n",
    "cars = [read_image(x) for x in glob.glob(car_images_path)]\n",
    "not_cars = [read_image(x) for x in glob.glob(not_car_images_path)]\n",
    "print(len(cars), len(not_cars))\n",
    "\n",
    "# TODO play with these values to see how your classifier\n",
    "# performs under different binning scenarios\n",
    "spatial = 32\n",
    "histbin = 32\n",
    "\n",
    "car_features = extract_features(cars, spatial_size=(spatial, spatial), hist_bins=histbin, hist_range=(0, 256))\n",
    "notcar_features = extract_features(not_cars, spatial_size=(spatial, spatial), hist_bins=histbin, hist_range=(0, 256))\n",
    "\n",
    "# Create an array stack of feature vectors\n",
    "X = np.vstack((car_features, notcar_features)).astype(np.float64)                        \n",
    "# Fit a per-column scaler\n",
    "X_scaler = StandardScaler().fit(X)\n",
    "# Apply the scaler to X\n",
    "scaled_X = X_scaler.transform(X)\n",
    "\n",
    "# Define the labels vector\n",
    "y = np.hstack((np.ones(len(car_features)), np.zeros(len(notcar_features))))\n",
    "\n",
    "# Split up data into randomized training and test sets\n",
    "rand_state = np.random.randint(0, 100)\n",
    "X_train, X_test, y_train, y_test = train_test_split(scaled_X, y, test_size=0.2, random_state=rand_state)\n",
    "\n",
    "print('Using spatial binning of:', spatial, 'and', histbin, 'histogram bins')\n",
    "print('Feature vector length:', len(X_train[0]))\n",
    "\n",
    "# Use a linear SVC \n",
    "svc = LinearSVC()\n",
    "# Check the training time for the SVC\n",
    "t=time.time()\n",
    "svc.fit(X_train, y_train)\n",
    "t2 = time.time()\n",
    "print(round(t2-t, 2), 'Seconds to train SVC...')\n",
    "\n",
    "# Check the score of the SVC\n",
    "print('Test Accuracy of SVC = ', round(svc.score(X_test, y_test), 4))\n",
    "\n",
    "# Check the prediction time for a single sample\n",
    "t=time.time()\n",
    "n_predict = 10\n",
    "print('My SVC predicts: ', svc.predict(X_test[0:n_predict]))\n",
    "print('For these',n_predict, 'labels: ', y_test[0:n_predict])\n",
    "t2 = time.time()\n",
    "print(round(t2-t, 5), 'Seconds to predict', n_predict,'labels with SVC')"
   ]
  },
  {
   "cell_type": "code",
   "execution_count": null,
   "metadata": {
    "collapsed": true
   },
   "outputs": [],
   "source": []
  }
 ],
 "metadata": {
  "anaconda-cloud": {},
  "kernelspec": {
   "display_name": "Python [conda env:keras]",
   "language": "python",
   "name": "conda-env-keras-py"
  },
  "language_info": {
   "codemirror_mode": {
    "name": "ipython",
    "version": 3
   },
   "file_extension": ".py",
   "mimetype": "text/x-python",
   "name": "python",
   "nbconvert_exporter": "python",
   "pygments_lexer": "ipython3",
   "version": "3.5.2"
  }
 },
 "nbformat": 4,
 "nbformat_minor": 1
}
